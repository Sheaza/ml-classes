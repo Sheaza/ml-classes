{
 "cells": [
  {
   "cell_type": "code",
   "execution_count": 2,
   "metadata": {
    "collapsed": true,
    "pycharm": {
     "name": "#%%\n"
    }
   },
   "outputs": [],
   "source": [
    "import pandas as pd"
   ]
  },
  {
   "cell_type": "code",
   "execution_count": 3,
   "outputs": [],
   "source": [
    "data = pd.read_csv(\"titanic.tsv\", header=0, sep=\"\\t\")"
   ],
   "metadata": {
    "collapsed": false,
    "pycharm": {
     "name": "#%%\n"
    }
   }
  },
  {
   "cell_type": "code",
   "execution_count": 4,
   "outputs": [
    {
     "data": {
      "text/plain": "     Survived  PassengerId  Pclass  \\\n0           0          530       2   \n1           0          466       3   \n2           0          753       3   \n3           0          855       2   \n4           0          333       1   \n..        ...          ...     ...   \n618         0          660       1   \n619         1           85       2   \n620         1          521       1   \n621         1          644       3   \n622         1          831       3   \n\n                                               Name     Sex   Age  SibSp  \\\n0                      Hocking\\t Mr. Richard George    male  23.0      2   \n1                  Goncalves\\t Mr. Manuel Estanslas    male  38.0      0   \n2                 Vande Velde\\t Mr. Johannes Joseph    male  33.0      0   \n3    Carter\\t Mrs. Ernest Courtenay (Lilian Hughes)  female  44.0      1   \n4                        Graham\\t Mr. George Edward    male  38.0      0   \n..                                              ...     ...   ...    ...   \n618                     Newell\\t Mr. Arthur Webster    male  58.0      0   \n619                            Ilett\\t Miss. Bertha  female  17.0      0   \n620                          Perreault\\t Miss. Anne  female  30.0      0   \n621                                Foo\\t Mr. Choong    male   NaN      0   \n622        Yasbeck\\t Mrs. Antoni (Selini Alexander)  female  15.0      1   \n\n     Parch              Ticket      Fare Cabin Embarked  \n0        1               29104   11.5000   NaN        S  \n1        0  SOTON/O.Q. 3101306    7.0500   NaN        S  \n2        0              345780    9.5000   NaN        S  \n3        0              244252   26.0000   NaN        S  \n4        1            PC 17582  153.4625   C91        S  \n..     ...                 ...       ...   ...      ...  \n618      2               35273  113.2750   D48        C  \n619      0          SO/C 14885   10.5000   NaN        S  \n620      0               12749   93.5000   B73        S  \n621      0                1601   56.4958   NaN        S  \n622      0                2659   14.4542   NaN        C  \n\n[623 rows x 12 columns]",
      "text/html": "<div>\n<style scoped>\n    .dataframe tbody tr th:only-of-type {\n        vertical-align: middle;\n    }\n\n    .dataframe tbody tr th {\n        vertical-align: top;\n    }\n\n    .dataframe thead th {\n        text-align: right;\n    }\n</style>\n<table border=\"1\" class=\"dataframe\">\n  <thead>\n    <tr style=\"text-align: right;\">\n      <th></th>\n      <th>Survived</th>\n      <th>PassengerId</th>\n      <th>Pclass</th>\n      <th>Name</th>\n      <th>Sex</th>\n      <th>Age</th>\n      <th>SibSp</th>\n      <th>Parch</th>\n      <th>Ticket</th>\n      <th>Fare</th>\n      <th>Cabin</th>\n      <th>Embarked</th>\n    </tr>\n  </thead>\n  <tbody>\n    <tr>\n      <th>0</th>\n      <td>0</td>\n      <td>530</td>\n      <td>2</td>\n      <td>Hocking\\t Mr. Richard George</td>\n      <td>male</td>\n      <td>23.0</td>\n      <td>2</td>\n      <td>1</td>\n      <td>29104</td>\n      <td>11.5000</td>\n      <td>NaN</td>\n      <td>S</td>\n    </tr>\n    <tr>\n      <th>1</th>\n      <td>0</td>\n      <td>466</td>\n      <td>3</td>\n      <td>Goncalves\\t Mr. Manuel Estanslas</td>\n      <td>male</td>\n      <td>38.0</td>\n      <td>0</td>\n      <td>0</td>\n      <td>SOTON/O.Q. 3101306</td>\n      <td>7.0500</td>\n      <td>NaN</td>\n      <td>S</td>\n    </tr>\n    <tr>\n      <th>2</th>\n      <td>0</td>\n      <td>753</td>\n      <td>3</td>\n      <td>Vande Velde\\t Mr. Johannes Joseph</td>\n      <td>male</td>\n      <td>33.0</td>\n      <td>0</td>\n      <td>0</td>\n      <td>345780</td>\n      <td>9.5000</td>\n      <td>NaN</td>\n      <td>S</td>\n    </tr>\n    <tr>\n      <th>3</th>\n      <td>0</td>\n      <td>855</td>\n      <td>2</td>\n      <td>Carter\\t Mrs. Ernest Courtenay (Lilian Hughes)</td>\n      <td>female</td>\n      <td>44.0</td>\n      <td>1</td>\n      <td>0</td>\n      <td>244252</td>\n      <td>26.0000</td>\n      <td>NaN</td>\n      <td>S</td>\n    </tr>\n    <tr>\n      <th>4</th>\n      <td>0</td>\n      <td>333</td>\n      <td>1</td>\n      <td>Graham\\t Mr. George Edward</td>\n      <td>male</td>\n      <td>38.0</td>\n      <td>0</td>\n      <td>1</td>\n      <td>PC 17582</td>\n      <td>153.4625</td>\n      <td>C91</td>\n      <td>S</td>\n    </tr>\n    <tr>\n      <th>...</th>\n      <td>...</td>\n      <td>...</td>\n      <td>...</td>\n      <td>...</td>\n      <td>...</td>\n      <td>...</td>\n      <td>...</td>\n      <td>...</td>\n      <td>...</td>\n      <td>...</td>\n      <td>...</td>\n      <td>...</td>\n    </tr>\n    <tr>\n      <th>618</th>\n      <td>0</td>\n      <td>660</td>\n      <td>1</td>\n      <td>Newell\\t Mr. Arthur Webster</td>\n      <td>male</td>\n      <td>58.0</td>\n      <td>0</td>\n      <td>2</td>\n      <td>35273</td>\n      <td>113.2750</td>\n      <td>D48</td>\n      <td>C</td>\n    </tr>\n    <tr>\n      <th>619</th>\n      <td>1</td>\n      <td>85</td>\n      <td>2</td>\n      <td>Ilett\\t Miss. Bertha</td>\n      <td>female</td>\n      <td>17.0</td>\n      <td>0</td>\n      <td>0</td>\n      <td>SO/C 14885</td>\n      <td>10.5000</td>\n      <td>NaN</td>\n      <td>S</td>\n    </tr>\n    <tr>\n      <th>620</th>\n      <td>1</td>\n      <td>521</td>\n      <td>1</td>\n      <td>Perreault\\t Miss. Anne</td>\n      <td>female</td>\n      <td>30.0</td>\n      <td>0</td>\n      <td>0</td>\n      <td>12749</td>\n      <td>93.5000</td>\n      <td>B73</td>\n      <td>S</td>\n    </tr>\n    <tr>\n      <th>621</th>\n      <td>1</td>\n      <td>644</td>\n      <td>3</td>\n      <td>Foo\\t Mr. Choong</td>\n      <td>male</td>\n      <td>NaN</td>\n      <td>0</td>\n      <td>0</td>\n      <td>1601</td>\n      <td>56.4958</td>\n      <td>NaN</td>\n      <td>S</td>\n    </tr>\n    <tr>\n      <th>622</th>\n      <td>1</td>\n      <td>831</td>\n      <td>3</td>\n      <td>Yasbeck\\t Mrs. Antoni (Selini Alexander)</td>\n      <td>female</td>\n      <td>15.0</td>\n      <td>1</td>\n      <td>0</td>\n      <td>2659</td>\n      <td>14.4542</td>\n      <td>NaN</td>\n      <td>C</td>\n    </tr>\n  </tbody>\n</table>\n<p>623 rows × 12 columns</p>\n</div>"
     },
     "execution_count": 4,
     "metadata": {},
     "output_type": "execute_result"
    }
   ],
   "source": [
    "data"
   ],
   "metadata": {
    "collapsed": false,
    "pycharm": {
     "name": "#%%\n"
    }
   }
  },
  {
   "cell_type": "code",
   "execution_count": 5,
   "outputs": [
    {
     "data": {
      "text/plain": "623"
     },
     "execution_count": 5,
     "metadata": {},
     "output_type": "execute_result"
    }
   ],
   "source": [
    "len(data)"
   ],
   "metadata": {
    "collapsed": false,
    "pycharm": {
     "name": "#%%\n"
    }
   }
  },
  {
   "cell_type": "markdown",
   "source": [
    "Zapełniam wartości nan w kolumnie wiek średnią wieku pasażerów"
   ],
   "metadata": {
    "collapsed": false,
    "pycharm": {
     "name": "#%% md\n"
    }
   }
  },
  {
   "cell_type": "code",
   "execution_count": 6,
   "outputs": [],
   "source": [
    "data[\"Age\"] = data[\"Age\"].fillna(data[\"Age\"].mean().round())"
   ],
   "metadata": {
    "collapsed": false,
    "pycharm": {
     "name": "#%%\n"
    }
   }
  },
  {
   "cell_type": "markdown",
   "source": [
    "Kolumny \"PassengerId\", \"Ticket\", \"Name\" sa unikalne i nie niosą za dużo informacji dla modelu. Kolumna \"Cabin\" jest w większości pusta."
   ],
   "metadata": {
    "collapsed": false,
    "pycharm": {
     "name": "#%% md\n"
    }
   }
  },
  {
   "cell_type": "code",
   "execution_count": 7,
   "outputs": [],
   "source": [
    "data = data.drop(columns=[\"PassengerId\", \"Ticket\", \"Cabin\", \"Name\"])"
   ],
   "metadata": {
    "collapsed": false,
    "pycharm": {
     "name": "#%%\n"
    }
   }
  },
  {
   "cell_type": "markdown",
   "source": [
    "Zamieniam wartości kolumny \"Sex\" na 0 -male i 1 - female"
   ],
   "metadata": {
    "collapsed": false,
    "pycharm": {
     "name": "#%% md\n"
    }
   }
  },
  {
   "cell_type": "code",
   "execution_count": 8,
   "outputs": [],
   "source": [
    "data[\"Sex\"] = data[\"Sex\"].apply(lambda x: 1 if x == \"female\" else 0)"
   ],
   "metadata": {
    "collapsed": false,
    "pycharm": {
     "name": "#%%\n"
    }
   }
  },
  {
   "cell_type": "code",
   "execution_count": 9,
   "outputs": [
    {
     "data": {
      "text/plain": "     Survived  Pclass  Sex   Age  SibSp  Parch      Fare Embarked\n0           0       2    0  23.0      2      1   11.5000        S\n1           0       3    0  38.0      0      0    7.0500        S\n2           0       3    0  33.0      0      0    9.5000        S\n3           0       2    1  44.0      1      0   26.0000        S\n4           0       1    0  38.0      0      1  153.4625        S\n..        ...     ...  ...   ...    ...    ...       ...      ...\n618         0       1    0  58.0      0      2  113.2750        C\n619         1       2    1  17.0      0      0   10.5000        S\n620         1       1    1  30.0      0      0   93.5000        S\n621         1       3    0  29.0      0      0   56.4958        S\n622         1       3    1  15.0      1      0   14.4542        C\n\n[623 rows x 8 columns]",
      "text/html": "<div>\n<style scoped>\n    .dataframe tbody tr th:only-of-type {\n        vertical-align: middle;\n    }\n\n    .dataframe tbody tr th {\n        vertical-align: top;\n    }\n\n    .dataframe thead th {\n        text-align: right;\n    }\n</style>\n<table border=\"1\" class=\"dataframe\">\n  <thead>\n    <tr style=\"text-align: right;\">\n      <th></th>\n      <th>Survived</th>\n      <th>Pclass</th>\n      <th>Sex</th>\n      <th>Age</th>\n      <th>SibSp</th>\n      <th>Parch</th>\n      <th>Fare</th>\n      <th>Embarked</th>\n    </tr>\n  </thead>\n  <tbody>\n    <tr>\n      <th>0</th>\n      <td>0</td>\n      <td>2</td>\n      <td>0</td>\n      <td>23.0</td>\n      <td>2</td>\n      <td>1</td>\n      <td>11.5000</td>\n      <td>S</td>\n    </tr>\n    <tr>\n      <th>1</th>\n      <td>0</td>\n      <td>3</td>\n      <td>0</td>\n      <td>38.0</td>\n      <td>0</td>\n      <td>0</td>\n      <td>7.0500</td>\n      <td>S</td>\n    </tr>\n    <tr>\n      <th>2</th>\n      <td>0</td>\n      <td>3</td>\n      <td>0</td>\n      <td>33.0</td>\n      <td>0</td>\n      <td>0</td>\n      <td>9.5000</td>\n      <td>S</td>\n    </tr>\n    <tr>\n      <th>3</th>\n      <td>0</td>\n      <td>2</td>\n      <td>1</td>\n      <td>44.0</td>\n      <td>1</td>\n      <td>0</td>\n      <td>26.0000</td>\n      <td>S</td>\n    </tr>\n    <tr>\n      <th>4</th>\n      <td>0</td>\n      <td>1</td>\n      <td>0</td>\n      <td>38.0</td>\n      <td>0</td>\n      <td>1</td>\n      <td>153.4625</td>\n      <td>S</td>\n    </tr>\n    <tr>\n      <th>...</th>\n      <td>...</td>\n      <td>...</td>\n      <td>...</td>\n      <td>...</td>\n      <td>...</td>\n      <td>...</td>\n      <td>...</td>\n      <td>...</td>\n    </tr>\n    <tr>\n      <th>618</th>\n      <td>0</td>\n      <td>1</td>\n      <td>0</td>\n      <td>58.0</td>\n      <td>0</td>\n      <td>2</td>\n      <td>113.2750</td>\n      <td>C</td>\n    </tr>\n    <tr>\n      <th>619</th>\n      <td>1</td>\n      <td>2</td>\n      <td>1</td>\n      <td>17.0</td>\n      <td>0</td>\n      <td>0</td>\n      <td>10.5000</td>\n      <td>S</td>\n    </tr>\n    <tr>\n      <th>620</th>\n      <td>1</td>\n      <td>1</td>\n      <td>1</td>\n      <td>30.0</td>\n      <td>0</td>\n      <td>0</td>\n      <td>93.5000</td>\n      <td>S</td>\n    </tr>\n    <tr>\n      <th>621</th>\n      <td>1</td>\n      <td>3</td>\n      <td>0</td>\n      <td>29.0</td>\n      <td>0</td>\n      <td>0</td>\n      <td>56.4958</td>\n      <td>S</td>\n    </tr>\n    <tr>\n      <th>622</th>\n      <td>1</td>\n      <td>3</td>\n      <td>1</td>\n      <td>15.0</td>\n      <td>1</td>\n      <td>0</td>\n      <td>14.4542</td>\n      <td>C</td>\n    </tr>\n  </tbody>\n</table>\n<p>623 rows × 8 columns</p>\n</div>"
     },
     "execution_count": 9,
     "metadata": {},
     "output_type": "execute_result"
    }
   ],
   "source": [
    "data"
   ],
   "metadata": {
    "collapsed": false,
    "pycharm": {
     "name": "#%%\n"
    }
   }
  },
  {
   "cell_type": "code",
   "execution_count": 10,
   "outputs": [
    {
     "data": {
      "text/plain": "array(['S', 'C', 'Q', nan], dtype=object)"
     },
     "execution_count": 10,
     "metadata": {},
     "output_type": "execute_result"
    }
   ],
   "source": [
    "pd.unique(data[\"Embarked\"])"
   ],
   "metadata": {
    "collapsed": false,
    "pycharm": {
     "name": "#%%\n"
    }
   }
  },
  {
   "cell_type": "markdown",
   "source": [
    "Wartości nan w kolumnie \"Embarked\" jest mało więc można usunąć wiersze je zawierające"
   ],
   "metadata": {
    "collapsed": false,
    "pycharm": {
     "name": "#%% md\n"
    }
   }
  },
  {
   "cell_type": "code",
   "execution_count": 11,
   "outputs": [
    {
     "data": {
      "text/plain": "623"
     },
     "execution_count": 11,
     "metadata": {},
     "output_type": "execute_result"
    }
   ],
   "source": [
    "len(data[\"Embarked\"])"
   ],
   "metadata": {
    "collapsed": false,
    "pycharm": {
     "name": "#%%\n"
    }
   }
  },
  {
   "cell_type": "code",
   "execution_count": 12,
   "outputs": [
    {
     "name": "stdout",
     "output_type": "stream",
     "text": [
      "<class 'pandas.core.series.Series'>\n",
      "RangeIndex: 623 entries, 0 to 622\n",
      "Series name: Embarked\n",
      "Non-Null Count  Dtype \n",
      "--------------  ----- \n",
      "621 non-null    object\n",
      "dtypes: object(1)\n",
      "memory usage: 5.0+ KB\n"
     ]
    }
   ],
   "source": [
    "data[\"Embarked\"].info()"
   ],
   "metadata": {
    "collapsed": false,
    "pycharm": {
     "name": "#%%\n"
    }
   }
  },
  {
   "cell_type": "code",
   "execution_count": 13,
   "outputs": [],
   "source": [
    "data = data.dropna(subset=[\"Embarked\"])"
   ],
   "metadata": {
    "collapsed": false,
    "pycharm": {
     "name": "#%%\n"
    }
   }
  },
  {
   "cell_type": "markdown",
   "source": [
    "Na koniec zamieniam dane kategoryczne na boole'owskie za pomoca get_dummies"
   ],
   "metadata": {
    "collapsed": false,
    "pycharm": {
     "name": "#%% md\n"
    }
   }
  },
  {
   "cell_type": "code",
   "execution_count": 14,
   "outputs": [],
   "source": [
    "data = pd.get_dummies(data, columns=[\"Embarked\"])"
   ],
   "metadata": {
    "collapsed": false,
    "pycharm": {
     "name": "#%%\n"
    }
   }
  },
  {
   "cell_type": "code",
   "execution_count": 15,
   "outputs": [
    {
     "data": {
      "text/plain": "     Survived  Pclass  Sex   Age  SibSp  Parch      Fare  Embarked_C  \\\n0           0       2    0  23.0      2      1   11.5000           0   \n1           0       3    0  38.0      0      0    7.0500           0   \n2           0       3    0  33.0      0      0    9.5000           0   \n3           0       2    1  44.0      1      0   26.0000           0   \n4           0       1    0  38.0      0      1  153.4625           0   \n..        ...     ...  ...   ...    ...    ...       ...         ...   \n618         0       1    0  58.0      0      2  113.2750           1   \n619         1       2    1  17.0      0      0   10.5000           0   \n620         1       1    1  30.0      0      0   93.5000           0   \n621         1       3    0  29.0      0      0   56.4958           0   \n622         1       3    1  15.0      1      0   14.4542           1   \n\n     Embarked_Q  Embarked_S  \n0             0           1  \n1             0           1  \n2             0           1  \n3             0           1  \n4             0           1  \n..          ...         ...  \n618           0           0  \n619           0           1  \n620           0           1  \n621           0           1  \n622           0           0  \n\n[621 rows x 10 columns]",
      "text/html": "<div>\n<style scoped>\n    .dataframe tbody tr th:only-of-type {\n        vertical-align: middle;\n    }\n\n    .dataframe tbody tr th {\n        vertical-align: top;\n    }\n\n    .dataframe thead th {\n        text-align: right;\n    }\n</style>\n<table border=\"1\" class=\"dataframe\">\n  <thead>\n    <tr style=\"text-align: right;\">\n      <th></th>\n      <th>Survived</th>\n      <th>Pclass</th>\n      <th>Sex</th>\n      <th>Age</th>\n      <th>SibSp</th>\n      <th>Parch</th>\n      <th>Fare</th>\n      <th>Embarked_C</th>\n      <th>Embarked_Q</th>\n      <th>Embarked_S</th>\n    </tr>\n  </thead>\n  <tbody>\n    <tr>\n      <th>0</th>\n      <td>0</td>\n      <td>2</td>\n      <td>0</td>\n      <td>23.0</td>\n      <td>2</td>\n      <td>1</td>\n      <td>11.5000</td>\n      <td>0</td>\n      <td>0</td>\n      <td>1</td>\n    </tr>\n    <tr>\n      <th>1</th>\n      <td>0</td>\n      <td>3</td>\n      <td>0</td>\n      <td>38.0</td>\n      <td>0</td>\n      <td>0</td>\n      <td>7.0500</td>\n      <td>0</td>\n      <td>0</td>\n      <td>1</td>\n    </tr>\n    <tr>\n      <th>2</th>\n      <td>0</td>\n      <td>3</td>\n      <td>0</td>\n      <td>33.0</td>\n      <td>0</td>\n      <td>0</td>\n      <td>9.5000</td>\n      <td>0</td>\n      <td>0</td>\n      <td>1</td>\n    </tr>\n    <tr>\n      <th>3</th>\n      <td>0</td>\n      <td>2</td>\n      <td>1</td>\n      <td>44.0</td>\n      <td>1</td>\n      <td>0</td>\n      <td>26.0000</td>\n      <td>0</td>\n      <td>0</td>\n      <td>1</td>\n    </tr>\n    <tr>\n      <th>4</th>\n      <td>0</td>\n      <td>1</td>\n      <td>0</td>\n      <td>38.0</td>\n      <td>0</td>\n      <td>1</td>\n      <td>153.4625</td>\n      <td>0</td>\n      <td>0</td>\n      <td>1</td>\n    </tr>\n    <tr>\n      <th>...</th>\n      <td>...</td>\n      <td>...</td>\n      <td>...</td>\n      <td>...</td>\n      <td>...</td>\n      <td>...</td>\n      <td>...</td>\n      <td>...</td>\n      <td>...</td>\n      <td>...</td>\n    </tr>\n    <tr>\n      <th>618</th>\n      <td>0</td>\n      <td>1</td>\n      <td>0</td>\n      <td>58.0</td>\n      <td>0</td>\n      <td>2</td>\n      <td>113.2750</td>\n      <td>1</td>\n      <td>0</td>\n      <td>0</td>\n    </tr>\n    <tr>\n      <th>619</th>\n      <td>1</td>\n      <td>2</td>\n      <td>1</td>\n      <td>17.0</td>\n      <td>0</td>\n      <td>0</td>\n      <td>10.5000</td>\n      <td>0</td>\n      <td>0</td>\n      <td>1</td>\n    </tr>\n    <tr>\n      <th>620</th>\n      <td>1</td>\n      <td>1</td>\n      <td>1</td>\n      <td>30.0</td>\n      <td>0</td>\n      <td>0</td>\n      <td>93.5000</td>\n      <td>0</td>\n      <td>0</td>\n      <td>1</td>\n    </tr>\n    <tr>\n      <th>621</th>\n      <td>1</td>\n      <td>3</td>\n      <td>0</td>\n      <td>29.0</td>\n      <td>0</td>\n      <td>0</td>\n      <td>56.4958</td>\n      <td>0</td>\n      <td>0</td>\n      <td>1</td>\n    </tr>\n    <tr>\n      <th>622</th>\n      <td>1</td>\n      <td>3</td>\n      <td>1</td>\n      <td>15.0</td>\n      <td>1</td>\n      <td>0</td>\n      <td>14.4542</td>\n      <td>1</td>\n      <td>0</td>\n      <td>0</td>\n    </tr>\n  </tbody>\n</table>\n<p>621 rows × 10 columns</p>\n</div>"
     },
     "execution_count": 15,
     "metadata": {},
     "output_type": "execute_result"
    }
   ],
   "source": [
    "data"
   ],
   "metadata": {
    "collapsed": false,
    "pycharm": {
     "name": "#%%\n"
    }
   }
  },
  {
   "cell_type": "markdown",
   "source": [
    "Wszystkie dane są numeryczne bez wartości nan"
   ],
   "metadata": {
    "collapsed": false,
    "pycharm": {
     "name": "#%% md\n"
    }
   }
  },
  {
   "cell_type": "code",
   "execution_count": 16,
   "outputs": [
    {
     "name": "stdout",
     "output_type": "stream",
     "text": [
      "<class 'pandas.core.frame.DataFrame'>\n",
      "Int64Index: 621 entries, 0 to 622\n",
      "Data columns (total 10 columns):\n",
      " #   Column      Non-Null Count  Dtype  \n",
      "---  ------      --------------  -----  \n",
      " 0   Survived    621 non-null    int64  \n",
      " 1   Pclass      621 non-null    int64  \n",
      " 2   Sex         621 non-null    int64  \n",
      " 3   Age         621 non-null    float64\n",
      " 4   SibSp       621 non-null    int64  \n",
      " 5   Parch       621 non-null    int64  \n",
      " 6   Fare        621 non-null    float64\n",
      " 7   Embarked_C  621 non-null    uint8  \n",
      " 8   Embarked_Q  621 non-null    uint8  \n",
      " 9   Embarked_S  621 non-null    uint8  \n",
      "dtypes: float64(2), int64(5), uint8(3)\n",
      "memory usage: 40.6 KB\n"
     ]
    }
   ],
   "source": [
    "data.info()"
   ],
   "metadata": {
    "collapsed": false,
    "pycharm": {
     "name": "#%%\n"
    }
   }
  },
  {
   "cell_type": "code",
   "execution_count": 17,
   "outputs": [],
   "source": [
    "data.to_csv(\"titanic_clean.csv\", index=False)"
   ],
   "metadata": {
    "collapsed": false,
    "pycharm": {
     "name": "#%%\n"
    }
   }
  },
  {
   "cell_type": "code",
   "execution_count": null,
   "outputs": [],
   "source": [],
   "metadata": {
    "collapsed": false,
    "pycharm": {
     "name": "#%%\n"
    }
   }
  }
 ],
 "metadata": {
  "kernelspec": {
   "display_name": "Python 3",
   "language": "python",
   "name": "python3"
  },
  "language_info": {
   "codemirror_mode": {
    "name": "ipython",
    "version": 2
   },
   "file_extension": ".py",
   "mimetype": "text/x-python",
   "name": "python",
   "nbconvert_exporter": "python",
   "pygments_lexer": "ipython2",
   "version": "2.7.6"
  }
 },
 "nbformat": 4,
 "nbformat_minor": 0
}